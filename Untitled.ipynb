{
 "cells": [
  {
   "cell_type": "code",
   "execution_count": 15,
   "id": "817d4a60",
   "metadata": {},
   "outputs": [
    {
     "name": "stdout",
     "output_type": "stream",
     "text": [
      "   UniqueID    Ingredients\n",
      "0         1  I1, I2, I3, I\n",
      "1         2     A, B, C, D\n"
     ]
    }
   ],
   "source": [
    "import pandas as pd\n",
    "import re\n",
    "\n",
    "# Sample dataframe\n",
    "data = {\n",
    "    'UniqueID': [1, 2],\n",
    "    'Ingredients': ['I1 10g, I2 10%, I3 10ml, I', 'A (0.1%), B(10%) , C , D']\n",
    "}\n",
    "df = pd.DataFrame(data)\n",
    "\n",
    "# Function to clean ingredients\n",
    "def clean_ingredients(ingredient_list):\n",
    "    # Regular expression to remove quantities and units\n",
    "    cleaned_list = re.sub(r'\\b([A-Za-z0-9]+)\\s*[\\d\\.]*\\s*(g|ml|%|\\(\\d*\\.?\\d+%\\))', r'\\1', ingredient_list)\n",
    "    # Handle cases where there might be parentheses with percentage\n",
    "    cleaned_list = re.sub(r'\\(\\s*\\d*\\.?\\d+%\\s*\\)', '', cleaned_list)\n",
    "    # Remove any extra spaces and clean up commas\n",
    "    cleaned_list = re.sub(r'\\s*,\\s*', ', ', cleaned_list).strip(', ')\n",
    "    return cleaned_list\n",
    "\n",
    "# Apply the cleaning function to the Ingredients column\n",
    "df['Ingredients'] = df['Ingredients'].apply(clean_ingredients)\n",
    "\n",
    "print(df)"
   ]
  },
  {
   "cell_type": "code",
   "execution_count": null,
   "id": "4a3571d5",
   "metadata": {},
   "outputs": [],
   "source": []
  }
 ],
 "metadata": {
  "kernelspec": {
   "display_name": "Python 3 (ipykernel)",
   "language": "python",
   "name": "python3"
  },
  "language_info": {
   "codemirror_mode": {
    "name": "ipython",
    "version": 3
   },
   "file_extension": ".py",
   "mimetype": "text/x-python",
   "name": "python",
   "nbconvert_exporter": "python",
   "pygments_lexer": "ipython3",
   "version": "3.10.9"
  }
 },
 "nbformat": 4,
 "nbformat_minor": 5
}
