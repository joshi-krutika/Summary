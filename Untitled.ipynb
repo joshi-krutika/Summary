{
 "cells": [
  {
   "cell_type": "code",
   "execution_count": 3,
   "id": "e141c320",
   "metadata": {},
   "outputs": [
    {
     "name": "stdout",
     "output_type": "stream",
     "text": [
      "Network has been saved to network_cytoscape.json\n"
     ]
    }
   ],
   "source": [
    "import pandas as pd\n",
    "import networkx as nx\n",
    "import json\n",
    "\n",
    "# Step 1: Load the Excel file\n",
    "file_path = 'path_to_your_excel_file.xlsx'\n",
    "df = pd.read_excel('./CO.xlsx')\n",
    "\n",
    "# Step 2: Create the network\n",
    "G = nx.Graph()\n",
    "\n",
    "# Add edges to the graph\n",
    "for index, row in df.iterrows():\n",
    "    G.add_edge(row['Node1'], row['Node2'], weight=row['Normalized_weight'])\n",
    "\n",
    "# Step 3: Convert the graph to Cytoscape.js format\n",
    "\n",
    "# Create nodes data\n",
    "nodes = [{'data': {'id': str(node)}} for node in G.nodes]\n",
    "\n",
    "# Create edges data\n",
    "edges = [{'data': {'source': str(edge[0]), 'target': str(edge[1]), 'weight': G[edge[0]][edge[1]]['weight']}} for edge in G.edges]\n",
    "\n",
    "# Combine nodes and edges into a single data structure\n",
    "cytoscape_data = {'elements': {'nodes': nodes, 'edges': edges}}\n",
    "\n",
    "# Step 4: Save to JSON file\n",
    "output_file = 'network_cytoscape.json'\n",
    "with open(output_file, 'w') as f:\n",
    "    json.dump(cytoscape_data, f)\n",
    "\n",
    "print(f\"Network has been saved to {output_file}\")"
   ]
  },
  {
   "cell_type": "code",
   "execution_count": null,
   "id": "4a9fe9b9",
   "metadata": {},
   "outputs": [],
   "source": []
  }
 ],
 "metadata": {
  "kernelspec": {
   "display_name": "Python 3 (ipykernel)",
   "language": "python",
   "name": "python3"
  },
  "language_info": {
   "codemirror_mode": {
    "name": "ipython",
    "version": 3
   },
   "file_extension": ".py",
   "mimetype": "text/x-python",
   "name": "python",
   "nbconvert_exporter": "python",
   "pygments_lexer": "ipython3",
   "version": "3.10.9"
  }
 },
 "nbformat": 4,
 "nbformat_minor": 5
}
