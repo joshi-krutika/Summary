{
 "cells": [
  {
   "cell_type": "code",
   "execution_count": 8,
   "id": "a98f44d4",
   "metadata": {},
   "outputs": [],
   "source": [
    "import pandas as pd\n",
    "\n",
    "# Example data\n",
    "data = {\n",
    "    'PID': [0, 1, 2, 3, 4],\n",
    "    'Formulation': ['i1,i5,i4', 'i1,i3', 'i1,i4', 'i4,i9', 'i1,i5,i3'],\n",
    "    'Category': ['eye', 'lip', 'eye', 'eye', 'lip']\n",
    "}\n",
    "\n",
    "# Load data into a DataFrame\n",
    "df = pd.DataFrame(data)"
   ]
  },
  {
   "cell_type": "code",
   "execution_count": 9,
   "id": "1ba0bb76",
   "metadata": {},
   "outputs": [
    {
     "data": {
      "text/html": [
       "<div>\n",
       "<style scoped>\n",
       "    .dataframe tbody tr th:only-of-type {\n",
       "        vertical-align: middle;\n",
       "    }\n",
       "\n",
       "    .dataframe tbody tr th {\n",
       "        vertical-align: top;\n",
       "    }\n",
       "\n",
       "    .dataframe thead th {\n",
       "        text-align: right;\n",
       "    }\n",
       "</style>\n",
       "<table border=\"1\" class=\"dataframe\">\n",
       "  <thead>\n",
       "    <tr style=\"text-align: right;\">\n",
       "      <th></th>\n",
       "      <th>PID</th>\n",
       "      <th>Formulation</th>\n",
       "      <th>Category</th>\n",
       "    </tr>\n",
       "  </thead>\n",
       "  <tbody>\n",
       "    <tr>\n",
       "      <th>0</th>\n",
       "      <td>0</td>\n",
       "      <td>i1,i5,i4</td>\n",
       "      <td>eye</td>\n",
       "    </tr>\n",
       "    <tr>\n",
       "      <th>1</th>\n",
       "      <td>1</td>\n",
       "      <td>i1,i3</td>\n",
       "      <td>lip</td>\n",
       "    </tr>\n",
       "    <tr>\n",
       "      <th>2</th>\n",
       "      <td>2</td>\n",
       "      <td>i1,i4</td>\n",
       "      <td>eye</td>\n",
       "    </tr>\n",
       "    <tr>\n",
       "      <th>3</th>\n",
       "      <td>3</td>\n",
       "      <td>i4,i9</td>\n",
       "      <td>eye</td>\n",
       "    </tr>\n",
       "    <tr>\n",
       "      <th>4</th>\n",
       "      <td>4</td>\n",
       "      <td>i1,i5,i3</td>\n",
       "      <td>lip</td>\n",
       "    </tr>\n",
       "  </tbody>\n",
       "</table>\n",
       "</div>"
      ],
      "text/plain": [
       "   PID Formulation Category\n",
       "0    0    i1,i5,i4      eye\n",
       "1    1       i1,i3      lip\n",
       "2    2       i1,i4      eye\n",
       "3    3       i4,i9      eye\n",
       "4    4    i1,i5,i3      lip"
      ]
     },
     "execution_count": 9,
     "metadata": {},
     "output_type": "execute_result"
    }
   ],
   "source": [
    "df"
   ]
  },
  {
   "cell_type": "code",
   "execution_count": 10,
   "id": "35fbbb83",
   "metadata": {},
   "outputs": [
    {
     "name": "stdout",
     "output_type": "stream",
     "text": [
      "  Ingredient  Count\n",
      "0         i1      4\n",
      "2         i4      3\n",
      "1         i5      2\n",
      "3         i3      2\n",
      "4         i9      1\n"
     ]
    }
   ],
   "source": [
    "from collections import Counter\n",
    "\n",
    "# Split the formulation strings into lists of ingredients\n",
    "df['Ingredients'] = df['Formulation'].apply(lambda x: x.split(','))\n",
    "\n",
    "# Flatten the list of all ingredients\n",
    "all_ingredients = [ingredient for sublist in df['Ingredients'] for ingredient in sublist]\n",
    "\n",
    "# Count the occurrences of each ingredient\n",
    "ingredient_counts = Counter(all_ingredients)\n",
    "\n",
    "# Convert to DataFrame for better readability\n",
    "popular_ingredients_df = pd.DataFrame(ingredient_counts.items(), columns=['Ingredient', 'Count'])\n",
    "popular_ingredients_df = popular_ingredients_df.sort_values(by='Count', ascending=False)\n",
    "\n",
    "print(popular_ingredients_df)"
   ]
  },
  {
   "cell_type": "code",
   "execution_count": 11,
   "id": "23f70e13",
   "metadata": {},
   "outputs": [
    {
     "name": "stdout",
     "output_type": "stream",
     "text": [
      "  Combination  Count\n",
      "0    (i1, i5)      2\n",
      "1    (i1, i4)      2\n",
      "3    (i1, i3)      2\n",
      "2    (i5, i4)      1\n",
      "4    (i4, i9)      1\n",
      "5    (i5, i3)      1\n"
     ]
    }
   ],
   "source": [
    "from itertools import combinations\n",
    "\n",
    "# Find all possible pairs of ingredients in each product\n",
    "def get_combinations(ingredients):\n",
    "    return list(combinations(ingredients, 2))\n",
    "\n",
    "# Apply the function to get all combinations for each product\n",
    "df['IngredientCombinations'] = df['Ingredients'].apply(get_combinations)\n",
    "\n",
    "# Flatten the list of all ingredient combinations\n",
    "all_combinations = [combo for sublist in df['IngredientCombinations'] for combo in sublist]\n",
    "\n",
    "# Count the occurrences of each combination\n",
    "combination_counts = Counter(all_combinations)\n",
    "\n",
    "# Convert to DataFrame for better readability\n",
    "popular_combinations_df = pd.DataFrame(combination_counts.items(), columns=['Combination', 'Count'])\n",
    "popular_combinations_df = popular_combinations_df.sort_values(by='Count', ascending=False)\n",
    "\n",
    "print(popular_combinations_df)"
   ]
  },
  {
   "cell_type": "code",
   "execution_count": 12,
   "id": "941c8d3b",
   "metadata": {},
   "outputs": [
    {
     "name": "stdout",
     "output_type": "stream",
     "text": [
      "  Category Ingredients  Count\n",
      "1      eye          i4      3\n",
      "0      eye          i1      2\n",
      "2      eye          i5      1\n",
      "3      eye          i9      1\n",
      "4      lip          i1      2\n",
      "5      lip          i3      2\n",
      "6      lip          i5      1\n"
     ]
    }
   ],
   "source": [
    "# Count the occurrences of each ingredient in each sub-category\n",
    "category_ingredient_counts = df.explode('Ingredients').groupby(['Category', 'Ingredients']).size().reset_index(name='Count')\n",
    "\n",
    "# Sort by category and count\n",
    "category_ingredient_counts = category_ingredient_counts.sort_values(by=['Category', 'Count'], ascending=[True, False])\n",
    "\n",
    "print(category_ingredient_counts)"
   ]
  },
  {
   "cell_type": "code",
   "execution_count": 13,
   "id": "635589d9",
   "metadata": {},
   "outputs": [
    {
     "name": "stdout",
     "output_type": "stream",
     "text": [
      "  Category IngredientCombinations  Count\n",
      "0      eye               (i1, i4)      2\n",
      "1      eye               (i1, i5)      1\n",
      "2      eye               (i4, i9)      1\n",
      "3      eye               (i5, i4)      1\n",
      "4      lip               (i1, i3)      2\n",
      "5      lip               (i1, i5)      1\n",
      "6      lip               (i5, i3)      1\n"
     ]
    }
   ],
   "source": [
    "# Count the occurrences of each ingredient combination in each sub-category\n",
    "category_combination_counts = df.explode('IngredientCombinations').groupby(['Category', 'IngredientCombinations']).size().reset_index(name='Count')\n",
    "\n",
    "# Sort by category and count\n",
    "category_combination_counts = category_combination_counts.sort_values(by=['Category', 'Count'], ascending=[True, False])\n",
    "\n",
    "print(category_combination_counts)"
   ]
  },
  {
   "cell_type": "code",
   "execution_count": null,
   "id": "50cc99d7",
   "metadata": {},
   "outputs": [],
   "source": []
  },
  {
   "cell_type": "code",
   "execution_count": null,
   "id": "17583475",
   "metadata": {},
   "outputs": [],
   "source": []
  },
  {
   "cell_type": "code",
   "execution_count": null,
   "id": "454fac8b",
   "metadata": {},
   "outputs": [],
   "source": []
  },
  {
   "cell_type": "code",
   "execution_count": 24,
   "id": "98dda715",
   "metadata": {},
   "outputs": [],
   "source": [
    "import pandas as pd\n",
    "\n",
    "# Example data\n",
    "# data = {\n",
    "#     'PID': [0, 1, 2, 3],\n",
    "#     'Formulation': ['i1,i2,i5,i10', 'i1,i6,i9', 'i2,i3,i5', 'i1,i2,i3,i5'],\n",
    "#     'Category': ['lip care', 'eye care', 'face cleanser', 'face/neck care']\n",
    "# }\n",
    "\n",
    "data = {\n",
    "    'PID': [0, 1, 2, 3, 4],\n",
    "    'Formulation': ['i1,i5,i4', 'i1,i3', 'i1,i4', 'i4,i9', 'i1,i5,i3'],\n",
    "    'Category': ['eye', 'lip', 'eye', 'eye', 'lip']\n",
    "}\n",
    "\n",
    "\n",
    "# Load data into a DataFrame\n",
    "df = pd.DataFrame(data)\n",
    "\n",
    "# Split the formulation strings into lists of ingredients\n",
    "df['Ingredients'] = df['Formulation'].apply(lambda x: x.split(','))"
   ]
  },
  {
   "cell_type": "code",
   "execution_count": 25,
   "id": "b444fd41",
   "metadata": {},
   "outputs": [
    {
     "name": "stdout",
     "output_type": "stream",
     "text": [
      "  Ingredient  Count\n",
      "0         i1      4\n",
      "2         i4      3\n",
      "1         i5      2\n",
      "3         i3      2\n",
      "4         i9      1\n"
     ]
    }
   ],
   "source": [
    "from collections import Counter\n",
    "\n",
    "# Flatten the list of all ingredients\n",
    "all_ingredients = [ingredient for sublist in df['Ingredients'] for ingredient in sublist]\n",
    "\n",
    "# Count the occurrences of each ingredient\n",
    "ingredient_counts = Counter(all_ingredients)\n",
    "\n",
    "# Convert to DataFrame for better readability\n",
    "popular_ingredients_df = pd.DataFrame(ingredient_counts.items(), columns=['Ingredient', 'Count'])\n",
    "popular_ingredients_df = popular_ingredients_df.sort_values(by='Count', ascending=False)\n",
    "\n",
    "print(popular_ingredients_df)"
   ]
  },
  {
   "cell_type": "code",
   "execution_count": 26,
   "id": "8ebca55b",
   "metadata": {},
   "outputs": [
    {
     "name": "stdout",
     "output_type": "stream",
     "text": [
      "  Combination  Count\n",
      "0    (i1, i5)      2\n",
      "1    (i1, i4)      2\n",
      "3    (i1, i3)      2\n",
      "2    (i5, i4)      1\n",
      "4    (i4, i9)      1\n",
      "5    (i5, i3)      1\n"
     ]
    }
   ],
   "source": [
    "from itertools import combinations\n",
    "\n",
    "# Find all possible pairs of ingredients in each product\n",
    "def get_combinations(ingredients):\n",
    "    return list(combinations(ingredients, 2))\n",
    "\n",
    "# Apply the function to get all combinations for each product\n",
    "df['IngredientCombinations'] = df['Ingredients'].apply(get_combinations)\n",
    "\n",
    "# Flatten the list of all ingredient combinations\n",
    "all_combinations = [combo for sublist in df['IngredientCombinations'] for combo in sublist]\n",
    "\n",
    "# Count the occurrences of each combination\n",
    "combination_counts = Counter(all_combinations)\n",
    "\n",
    "# Convert to DataFrame for better readability\n",
    "popular_combinations_df = pd.DataFrame(combination_counts.items(), columns=['Combination', 'Count'])\n",
    "popular_combinations_df = popular_combinations_df.sort_values(by='Count', ascending=False)\n",
    "\n",
    "print(popular_combinations_df)"
   ]
  },
  {
   "cell_type": "code",
   "execution_count": 27,
   "id": "c5f765f3",
   "metadata": {},
   "outputs": [
    {
     "name": "stdout",
     "output_type": "stream",
     "text": [
      "Popular ingredients in eye:\n",
      "  Ingredient  Count\n",
      "2         i4      3\n",
      "0         i1      2\n",
      "1         i5      1\n",
      "3         i9      1\n",
      "\n",
      "Popular ingredients in lip:\n",
      "  Ingredient  Count\n",
      "0         i1      2\n",
      "1         i3      2\n",
      "2         i5      1\n",
      "\n"
     ]
    }
   ],
   "source": [
    "# Define a function to count ingredients by category\n",
    "def count_ingredients_by_category(category_df):\n",
    "    all_ingredients = [ingredient for sublist in category_df['Ingredients'] for ingredient in sublist]\n",
    "    ingredient_counts = Counter(all_ingredients)\n",
    "    return pd.DataFrame(ingredient_counts.items(), columns=['Ingredient', 'Count']).sort_values(by='Count', ascending=False)\n",
    "\n",
    "# Get the unique categories\n",
    "categories = df['Category'].unique()\n",
    "\n",
    "# Create a dictionary to store the results for each category\n",
    "category_ingredient_counts = {}\n",
    "\n",
    "for category in categories:\n",
    "    category_df = df[df['Category'] == category]\n",
    "    category_ingredient_counts[category] = count_ingredients_by_category(category_df)\n",
    "\n",
    "# Print the results for each category\n",
    "for category, counts_df in category_ingredient_counts.items():\n",
    "    print(f\"Popular ingredients in {category}:\")\n",
    "    print(counts_df)\n",
    "    print()"
   ]
  },
  {
   "cell_type": "code",
   "execution_count": 28,
   "id": "585d76fc",
   "metadata": {},
   "outputs": [
    {
     "name": "stdout",
     "output_type": "stream",
     "text": [
      "Popular ingredient combinations in eye:\n",
      "  Combination  Count\n",
      "1    (i1, i4)      2\n",
      "0    (i1, i5)      1\n",
      "2    (i5, i4)      1\n",
      "3    (i4, i9)      1\n",
      "\n",
      "Popular ingredient combinations in lip:\n",
      "  Combination  Count\n",
      "0    (i1, i3)      2\n",
      "1    (i1, i5)      1\n",
      "2    (i5, i3)      1\n",
      "\n"
     ]
    }
   ],
   "source": [
    "# Define a function to count ingredient combinations by category\n",
    "def count_combinations_by_category(category_df):\n",
    "    all_combinations = [combo for sublist in category_df['IngredientCombinations'] for combo in sublist]\n",
    "    combination_counts = Counter(all_combinations)\n",
    "    return pd.DataFrame(combination_counts.items(), columns=['Combination', 'Count']).sort_values(by='Count', ascending=False)\n",
    "\n",
    "# Create a dictionary to store the results for each category\n",
    "category_combination_counts = {}\n",
    "\n",
    "for category in categories:\n",
    "    category_df = df[df['Category'] == category]\n",
    "    category_combination_counts[category] = count_combinations_by_category(category_df)\n",
    "\n",
    "# Print the results for each category\n",
    "for category, counts_df in category_combination_counts.items():\n",
    "    print(f\"Popular ingredient combinations in {category}:\")\n",
    "    print(counts_df)\n",
    "    print()"
   ]
  },
  {
   "cell_type": "code",
   "execution_count": null,
   "id": "997ae0e3",
   "metadata": {},
   "outputs": [],
   "source": []
  },
  {
   "cell_type": "code",
   "execution_count": null,
   "id": "67a1c2f7",
   "metadata": {},
   "outputs": [],
   "source": []
  },
  {
   "cell_type": "code",
   "execution_count": null,
   "id": "ce538f44",
   "metadata": {},
   "outputs": [],
   "source": []
  }
 ],
 "metadata": {
  "kernelspec": {
   "display_name": "Python 3 (ipykernel)",
   "language": "python",
   "name": "python3"
  },
  "language_info": {
   "codemirror_mode": {
    "name": "ipython",
    "version": 3
   },
   "file_extension": ".py",
   "mimetype": "text/x-python",
   "name": "python",
   "nbconvert_exporter": "python",
   "pygments_lexer": "ipython3",
   "version": "3.10.9"
  }
 },
 "nbformat": 4,
 "nbformat_minor": 5
}
